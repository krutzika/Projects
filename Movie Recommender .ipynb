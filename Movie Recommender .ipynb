{
 "cells": [
  {
   "cell_type": "code",
   "execution_count": 55,
   "id": "e7ae40a0",
   "metadata": {},
   "outputs": [],
   "source": [
    "%matplotlib inline\n",
    "import pandas as pd \n",
    "import numpy as np\n",
    "import ast\n",
    "import warnings; warnings.simplefilter('ignore')"
   ]
  },
  {
   "cell_type": "code",
   "execution_count": 62,
   "id": "12cc49d5",
   "metadata": {},
   "outputs": [
    {
     "data": {
      "text/html": [
       "<div>\n",
       "<style scoped>\n",
       "    .dataframe tbody tr th:only-of-type {\n",
       "        vertical-align: middle;\n",
       "    }\n",
       "\n",
       "    .dataframe tbody tr th {\n",
       "        vertical-align: top;\n",
       "    }\n",
       "\n",
       "    .dataframe thead th {\n",
       "        text-align: right;\n",
       "    }\n",
       "</style>\n",
       "<table border=\"1\" class=\"dataframe\">\n",
       "  <thead>\n",
       "    <tr style=\"text-align: right;\">\n",
       "      <th></th>\n",
       "      <th>adult</th>\n",
       "      <th>belongs_to_collection</th>\n",
       "      <th>budget</th>\n",
       "      <th>genres</th>\n",
       "      <th>homepage</th>\n",
       "      <th>id</th>\n",
       "      <th>imdb_id</th>\n",
       "      <th>original_language</th>\n",
       "      <th>original_title</th>\n",
       "      <th>overview</th>\n",
       "      <th>...</th>\n",
       "      <th>release_date</th>\n",
       "      <th>revenue</th>\n",
       "      <th>runtime</th>\n",
       "      <th>spoken_languages</th>\n",
       "      <th>status</th>\n",
       "      <th>tagline</th>\n",
       "      <th>title</th>\n",
       "      <th>video</th>\n",
       "      <th>vote_average</th>\n",
       "      <th>vote_count</th>\n",
       "    </tr>\n",
       "  </thead>\n",
       "  <tbody>\n",
       "    <tr>\n",
       "      <th>0</th>\n",
       "      <td>False</td>\n",
       "      <td>{'id': 10194, 'name': 'Toy Story Collection', ...</td>\n",
       "      <td>30000000</td>\n",
       "      <td>[{'id': 16, 'name': 'Animation'}, {'id': 35, '...</td>\n",
       "      <td>http://toystory.disney.com/toy-story</td>\n",
       "      <td>862</td>\n",
       "      <td>tt0114709</td>\n",
       "      <td>en</td>\n",
       "      <td>Toy Story</td>\n",
       "      <td>Led by Woody, Andy's toys live happily in his ...</td>\n",
       "      <td>...</td>\n",
       "      <td>1995-10-30</td>\n",
       "      <td>373554033.0</td>\n",
       "      <td>81.0</td>\n",
       "      <td>[{'iso_639_1': 'en', 'name': 'English'}]</td>\n",
       "      <td>Released</td>\n",
       "      <td>NaN</td>\n",
       "      <td>Toy Story</td>\n",
       "      <td>False</td>\n",
       "      <td>7.7</td>\n",
       "      <td>5415.0</td>\n",
       "    </tr>\n",
       "    <tr>\n",
       "      <th>1</th>\n",
       "      <td>False</td>\n",
       "      <td>NaN</td>\n",
       "      <td>65000000</td>\n",
       "      <td>[{'id': 12, 'name': 'Adventure'}, {'id': 14, '...</td>\n",
       "      <td>NaN</td>\n",
       "      <td>8844</td>\n",
       "      <td>tt0113497</td>\n",
       "      <td>en</td>\n",
       "      <td>Jumanji</td>\n",
       "      <td>When siblings Judy and Peter discover an encha...</td>\n",
       "      <td>...</td>\n",
       "      <td>1995-12-15</td>\n",
       "      <td>262797249.0</td>\n",
       "      <td>104.0</td>\n",
       "      <td>[{'iso_639_1': 'en', 'name': 'English'}, {'iso...</td>\n",
       "      <td>Released</td>\n",
       "      <td>Roll the dice and unleash the excitement!</td>\n",
       "      <td>Jumanji</td>\n",
       "      <td>False</td>\n",
       "      <td>6.9</td>\n",
       "      <td>2413.0</td>\n",
       "    </tr>\n",
       "    <tr>\n",
       "      <th>2</th>\n",
       "      <td>False</td>\n",
       "      <td>{'id': 119050, 'name': 'Grumpy Old Men Collect...</td>\n",
       "      <td>0</td>\n",
       "      <td>[{'id': 10749, 'name': 'Romance'}, {'id': 35, ...</td>\n",
       "      <td>NaN</td>\n",
       "      <td>15602</td>\n",
       "      <td>tt0113228</td>\n",
       "      <td>en</td>\n",
       "      <td>Grumpier Old Men</td>\n",
       "      <td>A family wedding reignites the ancient feud be...</td>\n",
       "      <td>...</td>\n",
       "      <td>1995-12-22</td>\n",
       "      <td>0.0</td>\n",
       "      <td>101.0</td>\n",
       "      <td>[{'iso_639_1': 'en', 'name': 'English'}]</td>\n",
       "      <td>Released</td>\n",
       "      <td>Still Yelling. Still Fighting. Still Ready for...</td>\n",
       "      <td>Grumpier Old Men</td>\n",
       "      <td>False</td>\n",
       "      <td>6.5</td>\n",
       "      <td>92.0</td>\n",
       "    </tr>\n",
       "    <tr>\n",
       "      <th>3</th>\n",
       "      <td>False</td>\n",
       "      <td>NaN</td>\n",
       "      <td>16000000</td>\n",
       "      <td>[{'id': 35, 'name': 'Comedy'}, {'id': 18, 'nam...</td>\n",
       "      <td>NaN</td>\n",
       "      <td>31357</td>\n",
       "      <td>tt0114885</td>\n",
       "      <td>en</td>\n",
       "      <td>Waiting to Exhale</td>\n",
       "      <td>Cheated on, mistreated and stepped on, the wom...</td>\n",
       "      <td>...</td>\n",
       "      <td>1995-12-22</td>\n",
       "      <td>81452156.0</td>\n",
       "      <td>127.0</td>\n",
       "      <td>[{'iso_639_1': 'en', 'name': 'English'}]</td>\n",
       "      <td>Released</td>\n",
       "      <td>Friends are the people who let you be yourself...</td>\n",
       "      <td>Waiting to Exhale</td>\n",
       "      <td>False</td>\n",
       "      <td>6.1</td>\n",
       "      <td>34.0</td>\n",
       "    </tr>\n",
       "    <tr>\n",
       "      <th>4</th>\n",
       "      <td>False</td>\n",
       "      <td>{'id': 96871, 'name': 'Father of the Bride Col...</td>\n",
       "      <td>0</td>\n",
       "      <td>[{'id': 35, 'name': 'Comedy'}]</td>\n",
       "      <td>NaN</td>\n",
       "      <td>11862</td>\n",
       "      <td>tt0113041</td>\n",
       "      <td>en</td>\n",
       "      <td>Father of the Bride Part II</td>\n",
       "      <td>Just when George Banks has recovered from his ...</td>\n",
       "      <td>...</td>\n",
       "      <td>1995-02-10</td>\n",
       "      <td>76578911.0</td>\n",
       "      <td>106.0</td>\n",
       "      <td>[{'iso_639_1': 'en', 'name': 'English'}]</td>\n",
       "      <td>Released</td>\n",
       "      <td>Just When His World Is Back To Normal... He's ...</td>\n",
       "      <td>Father of the Bride Part II</td>\n",
       "      <td>False</td>\n",
       "      <td>5.7</td>\n",
       "      <td>173.0</td>\n",
       "    </tr>\n",
       "  </tbody>\n",
       "</table>\n",
       "<p>5 rows × 24 columns</p>\n",
       "</div>"
      ],
      "text/plain": [
       "   adult                              belongs_to_collection    budget  \\\n",
       "0  False  {'id': 10194, 'name': 'Toy Story Collection', ...  30000000   \n",
       "1  False                                                NaN  65000000   \n",
       "2  False  {'id': 119050, 'name': 'Grumpy Old Men Collect...         0   \n",
       "3  False                                                NaN  16000000   \n",
       "4  False  {'id': 96871, 'name': 'Father of the Bride Col...         0   \n",
       "\n",
       "                                              genres  \\\n",
       "0  [{'id': 16, 'name': 'Animation'}, {'id': 35, '...   \n",
       "1  [{'id': 12, 'name': 'Adventure'}, {'id': 14, '...   \n",
       "2  [{'id': 10749, 'name': 'Romance'}, {'id': 35, ...   \n",
       "3  [{'id': 35, 'name': 'Comedy'}, {'id': 18, 'nam...   \n",
       "4                     [{'id': 35, 'name': 'Comedy'}]   \n",
       "\n",
       "                               homepage     id    imdb_id original_language  \\\n",
       "0  http://toystory.disney.com/toy-story    862  tt0114709                en   \n",
       "1                                   NaN   8844  tt0113497                en   \n",
       "2                                   NaN  15602  tt0113228                en   \n",
       "3                                   NaN  31357  tt0114885                en   \n",
       "4                                   NaN  11862  tt0113041                en   \n",
       "\n",
       "                original_title  \\\n",
       "0                    Toy Story   \n",
       "1                      Jumanji   \n",
       "2             Grumpier Old Men   \n",
       "3            Waiting to Exhale   \n",
       "4  Father of the Bride Part II   \n",
       "\n",
       "                                            overview  ... release_date  \\\n",
       "0  Led by Woody, Andy's toys live happily in his ...  ...   1995-10-30   \n",
       "1  When siblings Judy and Peter discover an encha...  ...   1995-12-15   \n",
       "2  A family wedding reignites the ancient feud be...  ...   1995-12-22   \n",
       "3  Cheated on, mistreated and stepped on, the wom...  ...   1995-12-22   \n",
       "4  Just when George Banks has recovered from his ...  ...   1995-02-10   \n",
       "\n",
       "       revenue runtime                                   spoken_languages  \\\n",
       "0  373554033.0    81.0           [{'iso_639_1': 'en', 'name': 'English'}]   \n",
       "1  262797249.0   104.0  [{'iso_639_1': 'en', 'name': 'English'}, {'iso...   \n",
       "2          0.0   101.0           [{'iso_639_1': 'en', 'name': 'English'}]   \n",
       "3   81452156.0   127.0           [{'iso_639_1': 'en', 'name': 'English'}]   \n",
       "4   76578911.0   106.0           [{'iso_639_1': 'en', 'name': 'English'}]   \n",
       "\n",
       "     status                                            tagline  \\\n",
       "0  Released                                                NaN   \n",
       "1  Released          Roll the dice and unleash the excitement!   \n",
       "2  Released  Still Yelling. Still Fighting. Still Ready for...   \n",
       "3  Released  Friends are the people who let you be yourself...   \n",
       "4  Released  Just When His World Is Back To Normal... He's ...   \n",
       "\n",
       "                         title  video vote_average vote_count  \n",
       "0                    Toy Story  False          7.7     5415.0  \n",
       "1                      Jumanji  False          6.9     2413.0  \n",
       "2             Grumpier Old Men  False          6.5       92.0  \n",
       "3            Waiting to Exhale  False          6.1       34.0  \n",
       "4  Father of the Bride Part II  False          5.7      173.0  \n",
       "\n",
       "[5 rows x 24 columns]"
      ]
     },
     "execution_count": 62,
     "metadata": {},
     "output_type": "execute_result"
    }
   ],
   "source": [
    "movie_data = pd.read_csv(\"movies_metadata.csv\", low_memory = False)\n",
    "movie_data.head()"
   ]
  },
  {
   "cell_type": "code",
   "execution_count": 49,
   "id": "316e0b19",
   "metadata": {},
   "outputs": [
    {
     "data": {
      "text/plain": [
       "0        [{'id': 16, 'name': 'Animation'}, {'id': 35, '...\n",
       "1        [{'id': 12, 'name': 'Adventure'}, {'id': 14, '...\n",
       "2        [{'id': 10749, 'name': 'Romance'}, {'id': 35, ...\n",
       "3        [{'id': 35, 'name': 'Comedy'}, {'id': 18, 'nam...\n",
       "4                           [{'id': 35, 'name': 'Comedy'}]\n",
       "                               ...                        \n",
       "45461    [{'id': 18, 'name': 'Drama'}, {'id': 10751, 'n...\n",
       "45462                        [{'id': 18, 'name': 'Drama'}]\n",
       "45463    [{'id': 28, 'name': 'Action'}, {'id': 18, 'nam...\n",
       "45464                                                   []\n",
       "45465                                                   []\n",
       "Name: genres, Length: 45466, dtype: object"
      ]
     },
     "execution_count": 49,
     "metadata": {},
     "output_type": "execute_result"
    }
   ],
   "source": [
    "movie_data[\"genres\"]"
   ]
  },
  {
   "cell_type": "code",
   "execution_count": 63,
   "id": "5f155620",
   "metadata": {},
   "outputs": [
    {
     "data": {
      "text/plain": [
       "0         [Animation, Comedy, Family]\n",
       "1        [Adventure, Fantasy, Family]\n",
       "2                   [Romance, Comedy]\n",
       "3            [Comedy, Drama, Romance]\n",
       "4                            [Comedy]\n",
       "                     ...             \n",
       "45461                 [Drama, Family]\n",
       "45462                         [Drama]\n",
       "45463       [Action, Drama, Thriller]\n",
       "45464                              []\n",
       "45465                              []\n",
       "Name: genres, Length: 45466, dtype: object"
      ]
     },
     "execution_count": 63,
     "metadata": {},
     "output_type": "execute_result"
    }
   ],
   "source": [
    "movie_data[\"genres\"]= movie_data[\"genres\"].fillna(\"[]\").apply(ast.literal_eval).apply(lambda x: [i[\"name\"] for i in x] if isinstance(x,list) else [])\n",
    "movie_data[\"genres\"]"
   ]
  },
  {
   "cell_type": "code",
   "execution_count": 27,
   "id": "721942df",
   "metadata": {},
   "outputs": [
    {
     "data": {
      "text/plain": [
       "0        [name]\n",
       "1        [name]\n",
       "2        [name]\n",
       "3        [name]\n",
       "4        [name]\n",
       "          ...  \n",
       "45461    [name]\n",
       "45462    [name]\n",
       "45463    [name]\n",
       "45464    [name]\n",
       "45465    [name]\n",
       "Name: genres, Length: 45466, dtype: object"
      ]
     },
     "execution_count": 27,
     "metadata": {},
     "output_type": "execute_result"
    }
   ],
   "source": [
    "\n",
    "\n",
    "#movie_data['genres'] = movie_data['genres'].apply(lambda x: [i['name'] for i in x] if isinstance in (x,list) else [\"name\"]) \n",
    "#movie_data['genres']"
   ]
  },
  {
   "cell_type": "code",
   "execution_count": 64,
   "id": "b43e4101",
   "metadata": {},
   "outputs": [
    {
     "data": {
      "text/plain": [
       "0        5415\n",
       "1        2413\n",
       "2          92\n",
       "3          34\n",
       "4         173\n",
       "         ... \n",
       "45461       1\n",
       "45462       3\n",
       "45463       6\n",
       "45464       0\n",
       "45465       0\n",
       "Name: vote_count, Length: 45460, dtype: int64"
      ]
     },
     "execution_count": 64,
     "metadata": {},
     "output_type": "execute_result"
    }
   ],
   "source": [
    "vote_count = movie_data[movie_data[\"vote_count\"].notnull()][\"vote_count\"].astype(\"int\")\n",
    "vote_count"
   ]
  },
  {
   "cell_type": "code",
   "execution_count": 65,
   "id": "8ac60356",
   "metadata": {},
   "outputs": [
    {
     "data": {
      "text/plain": [
       "5.244896612406511"
      ]
     },
     "execution_count": 65,
     "metadata": {},
     "output_type": "execute_result"
    }
   ],
   "source": [
    "vote_average = movie_data[movie_data[\"vote_average\"].notnull()][\"vote_average\"].astype(\"int\")\n",
    "vote_average\n",
    "c= vote_average.mean()\n",
    "c"
   ]
  },
  {
   "cell_type": "code",
   "execution_count": 66,
   "id": "ca3d6930",
   "metadata": {},
   "outputs": [
    {
     "data": {
      "text/plain": [
       "434.0"
      ]
     },
     "execution_count": 66,
     "metadata": {},
     "output_type": "execute_result"
    }
   ],
   "source": [
    "m = vote_count.quantile(0.95)\n",
    "m"
   ]
  },
  {
   "cell_type": "code",
   "execution_count": 67,
   "id": "0107ab77",
   "metadata": {
    "scrolled": false
   },
   "outputs": [],
   "source": [
    "movie_data[\"year\"] = pd.to_datetime(movie_data[\"release_date\"], errors = 'coerce').apply(lambda x: str(x).split('-')[0] if x != np.nan else np.nan)"
   ]
  },
  {
   "cell_type": "code",
   "execution_count": 68,
   "id": "856d4df1",
   "metadata": {},
   "outputs": [
    {
     "data": {
      "text/plain": [
       "(2274, 6)"
      ]
     },
     "execution_count": 68,
     "metadata": {},
     "output_type": "execute_result"
    }
   ],
   "source": [
    "qualified = movie_data[(movie_data[\"vote_count\"]>= m) & movie_data[\"vote_count\"].notnull() & (movie_data[\"vote_average\"].notnull())][['title', 'year', 'vote_count', 'vote_average', 'popularity', 'genres']]\n",
    "qualified['vote_count']= qualified[\"vote_count\"].astype(int)\n",
    "qualified['vote_average']=qualified[\"vote_average\"].astype(int)\n",
    "qualified.shape"
   ]
  },
  {
   "cell_type": "code",
   "execution_count": 69,
   "id": "36932799",
   "metadata": {},
   "outputs": [],
   "source": [
    "def weighted_rating(x):\n",
    "    v = x['vote_count']\n",
    "    R = x['vote_average']\n",
    "    return (v/(v+m) * R) + (m/(m+v) * c)"
   ]
  },
  {
   "cell_type": "code",
   "execution_count": 70,
   "id": "e7dcde0d",
   "metadata": {},
   "outputs": [],
   "source": [
    "qualified['wr'] = qualified.apply(weighted_rating, axis=1)\n"
   ]
  },
  {
   "cell_type": "code",
   "execution_count": 71,
   "id": "8413fd60",
   "metadata": {},
   "outputs": [
    {
     "data": {
      "text/plain": [
       "0                              [Animation, Comedy, Family]\n",
       "1                             [Adventure, Fantasy, Family]\n",
       "5                         [Action, Crime, Drama, Thriller]\n",
       "9                            [Adventure, Action, Thriller]\n",
       "15                                          [Drama, Crime]\n",
       "                               ...                        \n",
       "44624                          [Science Fiction, Thriller]\n",
       "44632                                   [Action, Thriller]\n",
       "44678              [Action, Drama, History, Thriller, War]\n",
       "44842       [Action, Science Fiction, Thriller, Adventure]\n",
       "45014    [Action, Western, Science Fiction, Fantasy, Ho...\n",
       "Name: genres, Length: 2274, dtype: object"
      ]
     },
     "execution_count": 71,
     "metadata": {},
     "output_type": "execute_result"
    }
   ],
   "source": [
    "qualified[\"genres\"]"
   ]
  },
  {
   "cell_type": "code",
   "execution_count": 84,
   "id": "04d252a3",
   "metadata": {},
   "outputs": [
    {
     "data": {
      "text/plain": [
       "0        Animation\n",
       "0           Comedy\n",
       "0           Family\n",
       "1        Adventure\n",
       "1          Fantasy\n",
       "           ...    \n",
       "45461       Family\n",
       "45462        Drama\n",
       "45463       Action\n",
       "45463        Drama\n",
       "45463     Thriller\n",
       "Name: genre, Length: 91106, dtype: object"
      ]
     },
     "execution_count": 84,
     "metadata": {},
     "output_type": "execute_result"
    }
   ],
   "source": [
    "s = movie_data.apply(lambda x: pd.Series(x['genres']),axis=1).stack().reset_index(level=1, drop=True)\n",
    "s.name = 'genre'\n",
    "gen_md = movie_data.drop('genres', axis=1).join(s)\n",
    "s"
   ]
  },
  {
   "cell_type": "code",
   "execution_count": 83,
   "id": "3cfa7394",
   "metadata": {},
   "outputs": [],
   "source": [
    "def build_chart(genre, percentile=0.85):\n",
    "    df = gen_md[gen_md['genre'] == genre]\n",
    "    vote_counts = df[df['vote_count'].notnull()]['vote_count'].astype('int')\n",
    "    vote_averages = df[df['vote_average'].notnull()]['vote_average'].astype('int')\n",
    "    C = vote_averages.mean()\n",
    "    m = vote_counts.quantile(percentile)\n",
    "    \n",
    "    qualified = df[(df['vote_count'] >= m) & (df['vote_count'].notnull()) & (df['vote_average'].notnull())][['title', 'year', 'vote_count', 'vote_average', 'popularity']]\n",
    "    qualified['vote_count'] = qualified['vote_count'].astype('int')\n",
    "    qualified['vote_average'] = qualified['vote_average'].astype('int')\n",
    "    \n",
    "    qualified['wr'] = qualified.apply(lambda x: (x['vote_count']/(x['vote_count']+m) * x['vote_average']) + (m/(m+x['vote_count']) * c), axis=1)\n",
    "    qualified = qualified.sort_values('wr', ascending=False).head(250)\n",
    "    \n",
    "    return qualified"
   ]
  },
  {
   "cell_type": "code",
   "execution_count": 82,
   "id": "5bdd4c80",
   "metadata": {},
   "outputs": [
    {
     "data": {
      "text/html": [
       "<div>\n",
       "<style scoped>\n",
       "    .dataframe tbody tr th:only-of-type {\n",
       "        vertical-align: middle;\n",
       "    }\n",
       "\n",
       "    .dataframe tbody tr th {\n",
       "        vertical-align: top;\n",
       "    }\n",
       "\n",
       "    .dataframe thead th {\n",
       "        text-align: right;\n",
       "    }\n",
       "</style>\n",
       "<table border=\"1\" class=\"dataframe\">\n",
       "  <thead>\n",
       "    <tr style=\"text-align: right;\">\n",
       "      <th></th>\n",
       "      <th>title</th>\n",
       "      <th>year</th>\n",
       "      <th>vote_count</th>\n",
       "      <th>vote_average</th>\n",
       "      <th>popularity</th>\n",
       "      <th>wr</th>\n",
       "    </tr>\n",
       "  </thead>\n",
       "  <tbody>\n",
       "    <tr>\n",
       "      <th>359</th>\n",
       "      <td>The Lion King</td>\n",
       "      <td>1994</td>\n",
       "      <td>5520</td>\n",
       "      <td>8</td>\n",
       "      <td>21.605761</td>\n",
       "      <td>7.909339</td>\n",
       "    </tr>\n",
       "    <tr>\n",
       "      <th>5481</th>\n",
       "      <td>Spirited Away</td>\n",
       "      <td>2001</td>\n",
       "      <td>3968</td>\n",
       "      <td>8</td>\n",
       "      <td>41.048867</td>\n",
       "      <td>7.875933</td>\n",
       "    </tr>\n",
       "    <tr>\n",
       "      <th>9698</th>\n",
       "      <td>Howl's Moving Castle</td>\n",
       "      <td>2004</td>\n",
       "      <td>2049</td>\n",
       "      <td>8</td>\n",
       "      <td>16.136048</td>\n",
       "      <td>7.772103</td>\n",
       "    </tr>\n",
       "    <tr>\n",
       "      <th>2884</th>\n",
       "      <td>Princess Mononoke</td>\n",
       "      <td>1997</td>\n",
       "      <td>2041</td>\n",
       "      <td>8</td>\n",
       "      <td>17.166725</td>\n",
       "      <td>7.771305</td>\n",
       "    </tr>\n",
       "    <tr>\n",
       "      <th>5833</th>\n",
       "      <td>My Neighbor Totoro</td>\n",
       "      <td>1988</td>\n",
       "      <td>1730</td>\n",
       "      <td>8</td>\n",
       "      <td>13.507299</td>\n",
       "      <td>7.735274</td>\n",
       "    </tr>\n",
       "    <tr>\n",
       "      <th>40251</th>\n",
       "      <td>Your Name.</td>\n",
       "      <td>2016</td>\n",
       "      <td>1030</td>\n",
       "      <td>8</td>\n",
       "      <td>34.461252</td>\n",
       "      <td>7.589820</td>\n",
       "    </tr>\n",
       "    <tr>\n",
       "      <th>5553</th>\n",
       "      <td>Grave of the Fireflies</td>\n",
       "      <td>1988</td>\n",
       "      <td>974</td>\n",
       "      <td>8</td>\n",
       "      <td>0.010902</td>\n",
       "      <td>7.570962</td>\n",
       "    </tr>\n",
       "    <tr>\n",
       "      <th>19901</th>\n",
       "      <td>Paperman</td>\n",
       "      <td>2012</td>\n",
       "      <td>734</td>\n",
       "      <td>8</td>\n",
       "      <td>7.198633</td>\n",
       "      <td>7.465676</td>\n",
       "    </tr>\n",
       "    <tr>\n",
       "      <th>39386</th>\n",
       "      <td>Piper</td>\n",
       "      <td>2016</td>\n",
       "      <td>487</td>\n",
       "      <td>8</td>\n",
       "      <td>11.243161</td>\n",
       "      <td>7.285132</td>\n",
       "    </tr>\n",
       "    <tr>\n",
       "      <th>20779</th>\n",
       "      <td>Wolf Children</td>\n",
       "      <td>2012</td>\n",
       "      <td>483</td>\n",
       "      <td>8</td>\n",
       "      <td>10.249498</td>\n",
       "      <td>7.281198</td>\n",
       "    </tr>\n",
       "    <tr>\n",
       "      <th>25044</th>\n",
       "      <td>Song of the Sea</td>\n",
       "      <td>2014</td>\n",
       "      <td>420</td>\n",
       "      <td>8</td>\n",
       "      <td>6.967358</td>\n",
       "      <td>7.212999</td>\n",
       "    </tr>\n",
       "    <tr>\n",
       "      <th>31658</th>\n",
       "      <td>Feast</td>\n",
       "      <td>2014</td>\n",
       "      <td>420</td>\n",
       "      <td>8</td>\n",
       "      <td>7.365663</td>\n",
       "      <td>7.212999</td>\n",
       "    </tr>\n",
       "    <tr>\n",
       "      <th>19101</th>\n",
       "      <td>Presto</td>\n",
       "      <td>2008</td>\n",
       "      <td>371</td>\n",
       "      <td>8</td>\n",
       "      <td>8.563861</td>\n",
       "      <td>7.150295</td>\n",
       "    </tr>\n",
       "    <tr>\n",
       "      <th>24209</th>\n",
       "      <td>The Tale of the Princess Kaguya</td>\n",
       "      <td>2013</td>\n",
       "      <td>350</td>\n",
       "      <td>8</td>\n",
       "      <td>7.566053</td>\n",
       "      <td>7.120255</td>\n",
       "    </tr>\n",
       "    <tr>\n",
       "      <th>13724</th>\n",
       "      <td>Up</td>\n",
       "      <td>2009</td>\n",
       "      <td>7048</td>\n",
       "      <td>7</td>\n",
       "      <td>19.330884</td>\n",
       "      <td>6.961798</td>\n",
       "    </tr>\n",
       "  </tbody>\n",
       "</table>\n",
       "</div>"
      ],
      "text/plain": [
       "                                 title  year  vote_count  vote_average  \\\n",
       "359                      The Lion King  1994        5520             8   \n",
       "5481                     Spirited Away  2001        3968             8   \n",
       "9698              Howl's Moving Castle  2004        2049             8   \n",
       "2884                 Princess Mononoke  1997        2041             8   \n",
       "5833                My Neighbor Totoro  1988        1730             8   \n",
       "40251                       Your Name.  2016        1030             8   \n",
       "5553            Grave of the Fireflies  1988         974             8   \n",
       "19901                         Paperman  2012         734             8   \n",
       "39386                            Piper  2016         487             8   \n",
       "20779                    Wolf Children  2012         483             8   \n",
       "25044                  Song of the Sea  2014         420             8   \n",
       "31658                            Feast  2014         420             8   \n",
       "19101                           Presto  2008         371             8   \n",
       "24209  The Tale of the Princess Kaguya  2013         350             8   \n",
       "13724                               Up  2009        7048             7   \n",
       "\n",
       "      popularity        wr  \n",
       "359    21.605761  7.909339  \n",
       "5481   41.048867  7.875933  \n",
       "9698   16.136048  7.772103  \n",
       "2884   17.166725  7.771305  \n",
       "5833   13.507299  7.735274  \n",
       "40251  34.461252  7.589820  \n",
       "5553    0.010902  7.570962  \n",
       "19901   7.198633  7.465676  \n",
       "39386  11.243161  7.285132  \n",
       "20779  10.249498  7.281198  \n",
       "25044   6.967358  7.212999  \n",
       "31658   7.365663  7.212999  \n",
       "19101   8.563861  7.150295  \n",
       "24209   7.566053  7.120255  \n",
       "13724  19.330884  6.961798  "
      ]
     },
     "execution_count": 82,
     "metadata": {},
     "output_type": "execute_result"
    }
   ],
   "source": [
    "build_chart('Animation').head(15)"
   ]
  },
  {
   "cell_type": "code",
   "execution_count": null,
   "id": "fad009d0",
   "metadata": {},
   "outputs": [],
   "source": []
  },
  {
   "cell_type": "code",
   "execution_count": null,
   "id": "4ac4ca05",
   "metadata": {},
   "outputs": [],
   "source": []
  }
 ],
 "metadata": {
  "celltoolbar": "Raw Cell Format",
  "kernelspec": {
   "display_name": "Python 3 (ipykernel)",
   "language": "python",
   "name": "python3"
  },
  "language_info": {
   "codemirror_mode": {
    "name": "ipython",
    "version": 3
   },
   "file_extension": ".py",
   "mimetype": "text/x-python",
   "name": "python",
   "nbconvert_exporter": "python",
   "pygments_lexer": "ipython3",
   "version": "3.9.12"
  }
 },
 "nbformat": 4,
 "nbformat_minor": 5
}
